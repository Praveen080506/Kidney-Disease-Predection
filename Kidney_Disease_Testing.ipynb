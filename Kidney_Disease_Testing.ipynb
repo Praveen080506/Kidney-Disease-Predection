{
  "nbformat": 4,
  "nbformat_minor": 0,
  "metadata": {
    "colab": {
      "provenance": []
    },
    "kernelspec": {
      "name": "python3",
      "display_name": "Python 3"
    },
    "language_info": {
      "name": "python"
    }
  },
  "cells": [
    {
      "cell_type": "code",
      "execution_count": 2,
      "metadata": {
        "id": "bu6OE_nq3jc9"
      },
      "outputs": [],
      "source": [
        "labels=[]"
      ]
    },
    {
      "cell_type": "code",
      "source": [
        "labels = ['id',\t'age',\t'bp',\t'sg',\t'al',\t'su',\t'bgr',\t'bu',\t'sc',\t'sod','dm_yes',\t'cad_no',\t'cad_yes',\t'appet_good',\t'appet_poor',\t'pe_no',\t'pe_yes',\t'ane_no',\t'ane_yes',\t'classification_ckd']\n",
        "inputs = []\n",
        "for lable in labels:\n",
        "  inputs.append(int(input('enter '+ lable + ':')))\n",
        "inputs"
      ],
      "metadata": {
        "colab": {
          "base_uri": "https://localhost:8080/"
        },
        "id": "e1Y_K87z5WwJ",
        "outputId": "426348d8-9516-446f-dfcc-9516d2271acd"
      },
      "execution_count": 4,
      "outputs": [
        {
          "name": "stdout",
          "output_type": "stream",
          "text": [
            "enter id:200\n",
            "enter age:23\n",
            "enter bp:1\n",
            "enter sg:1\n",
            "enter al:1\n",
            "enter su:1\n",
            "enter bgr:1\n",
            "enter bu:1\n",
            "enter sc:1\n",
            "enter sod:1\n",
            "enter dm_yes:1\n",
            "enter cad_no:1\n",
            "enter cad_yes:1\n",
            "enter appet_good:1\n",
            "enter appet_poor:1\n",
            "enter pe_no:1\n",
            "enter pe_yes:1\n",
            "enter ane_no:1\n",
            "enter ane_yes:1\n",
            "enter classification_ckd:1\n"
          ]
        },
        {
          "output_type": "execute_result",
          "data": {
            "text/plain": [
              "[200, 23, 1, 1, 1, 1, 1, 1, 1, 1, 1, 1, 1, 1, 1, 1, 1, 1, 1, 1]"
            ]
          },
          "metadata": {},
          "execution_count": 4
        }
      ]
    },
    {
      "cell_type": "code",
      "source": [
        "from keras.models import load_model\n",
        "import numpy as np\n",
        "obj = load_model('/content/kidney.h5')\n",
        "in_array = np.array([inputs])\n",
        "result = obj.predict(in_array)\n",
        "if result > 0.5:\n",
        "  print(\"kidney Disease\")\n",
        "else:\n",
        "  print(\"No Disease\")"
      ],
      "metadata": {
        "colab": {
          "base_uri": "https://localhost:8080/"
        },
        "id": "osoqD9-t5gQw",
        "outputId": "42003024-87b1-4b39-a719-14f92ff303c0"
      },
      "execution_count": 8,
      "outputs": [
        {
          "output_type": "stream",
          "name": "stderr",
          "text": [
            "WARNING:absl:Compiled the loaded model, but the compiled metrics have yet to be built. `model.compile_metrics` will be empty until you train or evaluate the model.\n"
          ]
        },
        {
          "output_type": "stream",
          "name": "stdout",
          "text": [
            "\u001b[1m1/1\u001b[0m \u001b[32m━━━━━━━━━━━━━━━━━━━━\u001b[0m\u001b[37m\u001b[0m \u001b[1m0s\u001b[0m 85ms/step\n",
            "kidney Disease\n"
          ]
        }
      ]
    }
  ]
}